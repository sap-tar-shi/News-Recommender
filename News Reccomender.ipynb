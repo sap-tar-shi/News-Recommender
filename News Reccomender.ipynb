{
 "cells": [
  {
   "cell_type": "code",
   "execution_count": 1,
   "id": "26afe870",
   "metadata": {},
   "outputs": [
    {
     "name": "stdout",
     "output_type": "stream",
     "text": [
      "All Modules Loaded ......\n"
     ]
    }
   ],
   "source": [
    "try:\n",
    "    from math import log10\n",
    "    from sklearn.feature_extraction.text import CountVectorizer\n",
    "    from collections import Counter\n",
    "    import datetime\n",
    "    import pandas as pd\n",
    "    import requests\n",
    "    import nltk\n",
    "    from bs4 import BeautifulSoup\n",
    "    from gensim.summarization import summarize\n",
    "    from newsapi import NewsApiClient\n",
    "    print(\"All Modules Loaded ......\")\n",
    "except Exception as e:\n",
    "    print(\"Some Modules are Missing : {} \".format(e))"
   ]
  },
  {
   "cell_type": "code",
   "execution_count": 2,
   "id": "12a2b1fd",
   "metadata": {},
   "outputs": [
    {
     "name": "stdout",
     "output_type": "stream",
     "text": [
      "Enter the Category of news:cyclone\n"
     ]
    }
   ],
   "source": [
    "api = NewsApiClient(api_key='a6d254ce146549c6a9a1af92483dba69')\n",
    "category = input(\"Enter the Category of news:\")\n",
    "data = api.get_everything(q= category)"
   ]
  },
  {
   "cell_type": "code",
   "execution_count": 12,
   "id": "0fdd6e93",
   "metadata": {},
   "outputs": [],
   "source": [
    "class TextCleaner(object):\n",
    "    def __init__(self, doc):\n",
    "        self.doc = [str(doc)]\n",
    "\n",
    "    def process(self):\n",
    "        \"\"\"\n",
    "        Remove the Stop words\n",
    "        :return: List []\n",
    "        \"\"\"\n",
    "        vectorizer = CountVectorizer()\n",
    "        X = vectorizer.fit_transform(self.doc)\n",
    "        corpus = vectorizer.get_feature_names()\n",
    "        type(X)\n",
    "        type(corpus)\n",
    "        return corpus\n",
    "\n",
    "class WordFrequency(object):\n",
    "\n",
    "    def __init__(self, data):\n",
    "        self.data = data\n",
    "\n",
    "    def process(self):\n",
    "        \"\"\"\n",
    "        Gets the Frequency Count\n",
    "        :return: Json\n",
    "        \"\"\"\n",
    "        data = Counter(self.data)\n",
    "        return data        \n",
    "\n",
    "def main(json,query):\n",
    "    helper = TextCleaner(doc=json)\n",
    "    corpus = helper.process()           # get the Bags of Words\n",
    "    \n",
    "    helper = WordFrequency(data=corpus)\n",
    "    corpus_freq = helper.process()      # get the Json of Words freq\n",
    "#     print(corpus_freq)\n",
    "    # Step 2:\n",
    "    helper = TextCleaner(doc=query)\n",
    "    vocubulary = helper.process()         # get the Bags of Words\n",
    "    \n",
    "    freq = []\n",
    "    for key in vocubulary:\n",
    "        try:\n",
    "            tem = corpus_freq[key]\n",
    "            freq.append(tem)\n",
    "        except Exception:\n",
    "            pass\n",
    "\n",
    "#     print(freq)\n",
    "    score  = sum(freq)\n",
    "    if( score > 0):\n",
    "        score = log10(score)\n",
    "        return score\n",
    "    else:\n",
    "        return 0.0"
   ]
  },
  {
   "cell_type": "code",
   "execution_count": 14,
   "id": "5feac4c1",
   "metadata": {},
   "outputs": [
    {
     "name": "stdout",
     "output_type": "stream",
     "text": [
      "Enter a query for recomendation:cyclone tauktae\n",
      "Score 0.0\n",
      "Score 0.0\n",
      "Score 0.0\n",
      "Score 0.0\n",
      "Score 0.0\n",
      "Score 0.0\n",
      "Score 0.0\n",
      "Score 0.0\n",
      "Score 0.0\n",
      "Score 0.0\n",
      "Score 0.0\n",
      "Score 0.0\n",
      "Score 0.0\n",
      "Score 0.0\n",
      "Score 0.0\n",
      "Score 0.3010299956639812\n",
      "Score 0.0\n",
      "Score 0.0\n",
      "Score 0.0\n",
      "Score 0.0\n"
     ]
    }
   ],
   "source": [
    "max = 0.0\n",
    "c=0\n",
    "best = []\n",
    "query = input(\"Enter a query for recomendation:\")\n",
    "for i in data['articles']:\n",
    "    start = datetime.datetime.now()\n",
    "    score = main(json=i.get('content'), query=query)\n",
    "    print(\"Score {}\" .format(score))\n",
    "    art = i\n",
    "    if score > 0.0:\n",
    "        art.update(score = score)\n",
    "        best.append(art)\n",
    "        if score>max:\n",
    "            max = score"
   ]
  },
  {
   "cell_type": "code",
   "execution_count": 5,
   "id": "18ab43d5",
   "metadata": {},
   "outputs": [
    {
     "name": "stdout",
     "output_type": "stream",
     "text": [
      "Article No: 1\n",
      "Indian rescuers use ships, planes in search for 26 missing after cyclone\n",
      "\n",
      "Length of original article: 4327\n",
      "Length of summary: 1917 \n",
      "\n",
      "Headline: Indian rescuers use ships, planes in search for 26 missing after cyclone \n",
      "\n",
      "Article Summary:\n",
      "People who were stranded at sea aboard Barge P305 due to Cyclone Tauktae exit the Indian Naval Ship (INS) Kochi after they were rescued by the Indian Navy, at Naval Dockyard, Mumbai, India, May 19, 2021.\n",
      "REUTERS/Francis Mascarenhas India's army and navy deployed ships and aircraft as they searched for 26 people still missing more than three days after a powerful cyclone sank a barge off the country's west coast, killing 49 people on board.\n",
      "Cyclone Tauktae, the most powerful storm to barrel into the west coast in two decades, has killed at least 46 others after wreaking havoc in the states of Gujarat, Maharashtra, Goa, Karnataka and Kerala.\n",
      "\"Ships and aircraft continue to search for the remaining crew,\" Navy spokesman Mehul Karnik said in a statement on Thursday evening.\n",
      "Five rescued workers taken to Mumbai's Apollo Spectra hospital were in stable condition, a hospital spokesman said.\n",
      "\"As the barge started to sink, my nephew jumped into the sea and stayed in the water for nine hours until the navy came to his rescue,\" said Sanjay More, a relative of one survivor.\n",
      "Rajnish Singh, the relative of another, told Reuters that all the workers on board had lost their mobile phones but that he had seen footage of his brother being rescued on television and knew he was safe.\n",
      "The barge was owned and operated by Durmast Enterprises and was chartered by Afcons Infrastructure Limited, a construction and engineering company based in Mumbai and engaged in contract work for Oil and Natural Gas Corp.\n",
      "\"Durmast is the owner and the responsibility for marine operations rests with the vessel owner and his marine crew stationed on the vessel,\" Afcons said in a statement, adding that its construction workmen were on the barge.\n",
      "Reuters provides business, financial, national and international news to professionals via desktop terminals, the world's media organizations, industry events and directly to consumers.\n",
      "========================================================================================\n",
      "\n",
      "\n",
      "\n"
     ]
    }
   ],
   "source": [
    "def sorting(e):\n",
    "  return e['score']\n",
    "\n",
    "c=1\n",
    "if len(best)>0:\n",
    "    best.sort(reverse = True, key = sorting)\n",
    "    for i in best:\n",
    "        url = i.get('url')\n",
    "        page = requests.get(url).text\n",
    "        soup = BeautifulSoup(page)\n",
    "        headline = soup.find('h1').get_text()\n",
    "        p_tags = soup.find_all('p')\n",
    "        p_tags_text = [tag.get_text().strip() for tag in p_tags]\n",
    "        sentence_list = [sentence for sentence in p_tags_text if not '\\n' in sentence]\n",
    "        sentence_list = [sentence for sentence in sentence_list if '.' in sentence]\n",
    "        article = ' '.join(sentence_list)\n",
    "        summary = summarize(article, ratio=0.3)\n",
    "        print(f'Article No: {c}')\n",
    "        print(headline)\n",
    "        print(f'\\nLength of original article: {len(article)}')\n",
    "        print(f'Length of summary: {len(summary)} \\n')\n",
    "        print(f'Headline: {headline} \\n')\n",
    "        print(f'Article Summary:\\n{summary}')\n",
    "        print(\"========================================================================================\\n\\n\\n\")\n",
    "        c+=1\n",
    "else:\n",
    "    print(\"No relevant results Found!!\")"
   ]
  },
  {
   "cell_type": "code",
   "execution_count": null,
   "id": "616f6588",
   "metadata": {},
   "outputs": [],
   "source": []
  }
 ],
 "metadata": {
  "kernelspec": {
   "display_name": "Python 3",
   "language": "python",
   "name": "python3"
  },
  "language_info": {
   "codemirror_mode": {
    "name": "ipython",
    "version": 3
   },
   "file_extension": ".py",
   "mimetype": "text/x-python",
   "name": "python",
   "nbconvert_exporter": "python",
   "pygments_lexer": "ipython3",
   "version": "3.8.8"
  }
 },
 "nbformat": 4,
 "nbformat_minor": 5
}
